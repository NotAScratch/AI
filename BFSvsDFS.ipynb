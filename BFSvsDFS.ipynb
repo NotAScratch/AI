{
 "cells": [
  {
   "cell_type": "markdown",
   "metadata": {},
   "source": [
    "# BFS"
   ]
  },
  {
   "cell_type": "code",
   "execution_count": 2,
   "metadata": {},
   "outputs": [
    {
     "name": "stdout",
     "output_type": "stream",
     "text": [
      "['S', 'A', 'B', 'C', 'D', 'E', 'G', 'F', 'H']\n"
     ]
    }
   ],
   "source": [
    "model = {\n",
    "    \"S\":[\"A\",\"B\",\"C\"],\n",
    "    \"A\":[\"S\",\"D\"],\n",
    "    \"B\":[\"S\",\"D\",\"E\",\"G\"],\n",
    "    \"C\":[\"S\",\"E\"],\n",
    "    \"D\":[\"A\",\"B\",\"F\"],\n",
    "    \"E\":[\"B\",\"C\",\"F\",\"H\"],\n",
    "    \"F\":[\"D\",\"E\",\"G\"],\n",
    "    \"G\":[\"B\",\"F\",\"H\"],\n",
    "    \"H\":[\"E\",\"G\"]\n",
    "         }\n",
    "\n",
    "initial = \"S\"\n",
    "\n",
    "frontier = [initial]\n",
    "explored = []\n",
    "\n",
    "while frontier:\n",
    "    value = frontier.pop(0)\n",
    "    if value not in explored:\n",
    "        explored.append(value)\n",
    "        new_frontier = [val for val in model[value] if val not in frontier and val not in explored]\n",
    "        frontier.extend(new_frontier)\n",
    "\n",
    "print(explored)"
   ]
  },
  {
   "cell_type": "markdown",
   "metadata": {},
   "source": [
    "# DFS"
   ]
  },
  {
   "cell_type": "code",
   "execution_count": 3,
   "metadata": {},
   "outputs": [
    {
     "name": "stdout",
     "output_type": "stream",
     "text": [
      "['S', 'C', 'E', 'H', 'G', 'F', 'D', 'B', 'A']\n"
     ]
    }
   ],
   "source": [
    "model = {\n",
    "    \"S\":[\"A\",\"B\",\"C\"],\n",
    "    \"A\":[\"S\",\"D\"],\n",
    "    \"B\":[\"S\",\"D\",\"E\",\"G\"],\n",
    "    \"C\":[\"S\",\"E\"],\n",
    "    \"D\":[\"A\",\"B\",\"F\"],\n",
    "    \"E\":[\"B\",\"C\",\"F\",\"H\"],\n",
    "    \"F\":[\"D\",\"E\",\"G\"],\n",
    "    \"G\":[\"B\",\"F\",\"H\"],\n",
    "    \"H\":[\"E\",\"G\"]\n",
    "         }\n",
    "\n",
    "initial = \"S\"\n",
    "\n",
    "frontier = [initial]\n",
    "explored = []\n",
    "\n",
    "while frontier:\n",
    "    value = frontier.pop()\n",
    "    if value not in explored:\n",
    "        explored.append(value)\n",
    "        new_frontier = [val for val in model[value] if val not in frontier and val not in explored]\n",
    "        frontier.extend(new_frontier)\n",
    "\n",
    "print(explored)"
   ]
  },
  {
   "cell_type": "markdown",
   "metadata": {},
   "source": [
    "# Djikstra's Algorithm"
   ]
  },
  {
   "cell_type": "code",
   "execution_count": 5,
   "metadata": {},
   "outputs": [
    {
     "name": "stdout",
     "output_type": "stream",
     "text": [
      "{'A': 0, 'B': 3, 'C': 1, 'D': 3, 'E': 4}\n"
     ]
    }
   ],
   "source": [
    "import heapq\n",
    "\n",
    "graph = {\n",
    "    'A':[('B', 3), ('C', 1) ],\n",
    "    'B':[('A', 3), ('C', 7), ('D', 5), ('E', 1) ],\n",
    "    'C':[('A', 1), ('D', 2) ],\n",
    "    'D':[('B', 5), ('C', 2), ('E', 7) ],\n",
    "    'E':[('B', 3), ('D', 7) ]\n",
    "}\n",
    "\n",
    "start = 'C'\n",
    "distances = {node: float('infinity') for node in graph}  \n",
    "distances[start] = 0\n",
    "queue = [(0, start)]\n",
    "\n",
    "while queue:\n",
    "    current_distance, current_node = heapq.heappop(queue)\n",
    "     \n",
    "    for neighbor, weight in graph[current_node]:\n",
    "        distance = current_distance + weight\n",
    "        if distance < distances[neighbor]:\n",
    "            distances[neighbor] = distance\n",
    "            heapq.heappush(queue, (distance, neighbor))\n",
    "\n"
   ]
  }
 ],
 "metadata": {
  "language_info": {
   "name": "python"
  }
 },
 "nbformat": 4,
 "nbformat_minor": 2
}
