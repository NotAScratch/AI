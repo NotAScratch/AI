{
 "cells": [
  {
   "cell_type": "code",
   "execution_count": 1,
   "metadata": {},
   "outputs": [],
   "source": [
    "import numpy as np"
   ]
  },
  {
   "cell_type": "code",
   "execution_count": 2,
   "metadata": {},
   "outputs": [
    {
     "name": "stdout",
     "output_type": "stream",
     "text": [
      "0.03 0.03\n"
     ]
    }
   ],
   "source": [
    "x1 = 2\n",
    "w1 = 1\n",
    "w2 = 3\n",
    "target = 5\n",
    "eta = 0.01\n",
    "\n",
    "stack = []\n",
    "\n",
    "z_h = w1 * x1\n",
    "a_h = max(0, z_h)\n",
    "stack.append(z_h)\n",
    "\n",
    "z_o = w2 * a_h\n",
    "a_o = z_o\n",
    "stack.append(a_o)\n",
    "\n",
    "e = stack.pop() - target\n",
    "\n",
    "ad1 = e * w2\n",
    "\n",
    "ad2 = e * w2 * w1 \n",
    "\n",
    "\n",
    "w2 = eta * ad1\n",
    "w1 = eta * ad2\n",
    "\n",
    "print(w1, w2)"
   ]
  },
  {
   "cell_type": "code",
   "execution_count": 10,
   "metadata": {},
   "outputs": [],
   "source": [
    "priority_queue = []"
   ]
  },
  {
   "cell_type": "code",
   "execution_count": 4,
   "metadata": {},
   "outputs": [],
   "source": [
    "experinces = [\n",
    "    ((\"action1\", 0.5), 0.5),\n",
    "    ((\"action2\", 0.2), 0.2),\n",
    "    ((\"action3\", 1.0), 1.0)\n",
    "]"
   ]
  },
  {
   "cell_type": "code",
   "execution_count": 7,
   "metadata": {},
   "outputs": [
    {
     "name": "stdout",
     "output_type": "stream",
     "text": [
      "('action1', 0.5) 0.2\n",
      "('action2', 0.2) 0\n",
      "('action3', 1.0) 1.0\n"
     ]
    }
   ],
   "source": [
    "for exp, reward in experinces:\n",
    "    print(exp, reward)\n"
   ]
  },
  {
   "cell_type": "code",
   "execution_count": 8,
   "metadata": {},
   "outputs": [],
   "source": [
    "import heapq"
   ]
  },
  {
   "cell_type": "code",
   "execution_count": 11,
   "metadata": {},
   "outputs": [],
   "source": [
    "def add_experince(priority, experince):\n",
    "    heapq.heappush(priority_queue, (-priority, experince))\n",
    "\n",
    "for exp, reward in experinces:\n",
    "    add_experince(reward, exp)"
   ]
  },
  {
   "cell_type": "code",
   "execution_count": 12,
   "metadata": {},
   "outputs": [
    {
     "data": {
      "text/plain": [
       "[(-1.0, ('action3', 1.0)), (0, ('action2', 0.2)), (-0.2, ('action1', 0.5))]"
      ]
     },
     "execution_count": 12,
     "metadata": {},
     "output_type": "execute_result"
    }
   ],
   "source": [
    "priority_queue"
   ]
  }
 ],
 "metadata": {
  "kernelspec": {
   "display_name": "Python 3",
   "language": "python",
   "name": "python3"
  },
  "language_info": {
   "codemirror_mode": {
    "name": "ipython",
    "version": 3
   },
   "file_extension": ".py",
   "mimetype": "text/x-python",
   "name": "python",
   "nbconvert_exporter": "python",
   "pygments_lexer": "ipython3",
   "version": "3.12.1"
  }
 },
 "nbformat": 4,
 "nbformat_minor": 2
}
