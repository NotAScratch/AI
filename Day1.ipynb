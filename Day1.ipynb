{
 "cells": [
  {
   "cell_type": "code",
   "execution_count": 1,
   "metadata": {},
   "outputs": [],
   "source": [
    "import numpy as np"
   ]
  },
  {
   "cell_type": "code",
   "execution_count": 2,
   "metadata": {},
   "outputs": [
    {
     "name": "stdout",
     "output_type": "stream",
     "text": [
      "0.03 0.03\n"
     ]
    }
   ],
   "source": [
    "x1 = 2\n",
    "w1 = 1\n",
    "w2 = 3\n",
    "target = 5\n",
    "eta = 0.01\n",
    "\n",
    "stack = []\n",
    "\n",
    "z_h = w1 * x1\n",
    "a_h = max(0, z_h)\n",
    "stack.append(z_h)\n",
    "\n",
    "z_o = w2 * a_h\n",
    "a_o = z_o\n",
    "stack.append(a_o)\n",
    "\n",
    "e = stack.pop() - target\n",
    "\n",
    "ad1 = e * w2\n",
    "\n",
    "ad2 = e * w2 * w1 \n",
    "\n",
    "\n",
    "w2 = eta * ad1\n",
    "w1 = eta * ad2\n",
    "\n",
    "print(w1, w2)"
   ]
  }
 ],
 "metadata": {
  "kernelspec": {
   "display_name": "Python 3",
   "language": "python",
   "name": "python3"
  },
  "language_info": {
   "codemirror_mode": {
    "name": "ipython",
    "version": 3
   },
   "file_extension": ".py",
   "mimetype": "text/x-python",
   "name": "python",
   "nbconvert_exporter": "python",
   "pygments_lexer": "ipython3",
   "version": "3.12.1"
  }
 },
 "nbformat": 4,
 "nbformat_minor": 2
}
