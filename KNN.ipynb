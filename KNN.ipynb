{
 "cells": [
  {
   "cell_type": "code",
   "execution_count": 2,
   "metadata": {},
   "outputs": [],
   "source": [
    "import pandas as pd\n",
    "import matplotlib.pyplot as plt\n",
    "import numpy as np\n"
   ]
  },
  {
   "cell_type": "code",
   "execution_count": 3,
   "metadata": {},
   "outputs": [],
   "source": [
    "apple_features = {\n",
    "    'color_intensity' : [90, 85, 88, 95, 92],\n",
    "    'surface_texture' : [1,0.8,0.9,0.8,0.9],\n",
    "}\n",
    "\n",
    "orange_features = {\n",
    "    'color_intensity' : [80, 85, 75, 70, 78],\n",
    "    'surface_texture' : [0.5,0.4,0.2,0.5,0.4],\n",
    "}"
   ]
  },
  {
   "cell_type": "code",
   "execution_count": 4,
   "metadata": {},
   "outputs": [],
   "source": [
    "df_apple = pd.DataFrame(apple_features)\n",
    "df_orange = pd.DataFrame(orange_features)"
   ]
  },
  {
   "cell_type": "code",
   "execution_count": 5,
   "metadata": {},
   "outputs": [],
   "source": [
    "new_features = {\n",
    "    'color_intensity' : [85],\n",
    "    'surface_texture' : [0.5],\n",
    "}"
   ]
  },
  {
   "cell_type": "code",
   "execution_count": 6,
   "metadata": {},
   "outputs": [],
   "source": [
    "new_df = pd.DataFrame(new_features)"
   ]
  },
  {
   "cell_type": "code",
   "execution_count": 7,
   "metadata": {},
   "outputs": [
    {
     "data": {
      "text/html": [
       "<div>\n",
       "<style scoped>\n",
       "    .dataframe tbody tr th:only-of-type {\n",
       "        vertical-align: middle;\n",
       "    }\n",
       "\n",
       "    .dataframe tbody tr th {\n",
       "        vertical-align: top;\n",
       "    }\n",
       "\n",
       "    .dataframe thead th {\n",
       "        text-align: right;\n",
       "    }\n",
       "</style>\n",
       "<table border=\"1\" class=\"dataframe\">\n",
       "  <thead>\n",
       "    <tr style=\"text-align: right;\">\n",
       "      <th></th>\n",
       "      <th>color_intensity</th>\n",
       "      <th>surface_texture</th>\n",
       "    </tr>\n",
       "  </thead>\n",
       "  <tbody>\n",
       "    <tr>\n",
       "      <th>0</th>\n",
       "      <td>85</td>\n",
       "      <td>0.5</td>\n",
       "    </tr>\n",
       "  </tbody>\n",
       "</table>\n",
       "</div>"
      ],
      "text/plain": [
       "   color_intensity  surface_texture\n",
       "0               85              0.5"
      ]
     },
     "execution_count": 7,
     "metadata": {},
     "output_type": "execute_result"
    }
   ],
   "source": [
    "new_df"
   ]
  },
  {
   "cell_type": "code",
   "execution_count": 8,
   "metadata": {},
   "outputs": [],
   "source": [
    "\n",
    "\n",
    "apple  = df_apple.to_numpy()\n",
    "orange = df_orange.to_numpy()\n",
    "new = new_df.to_numpy()\n"
   ]
  },
  {
   "cell_type": "code",
   "execution_count": 9,
   "metadata": {},
   "outputs": [
    {
     "data": {
      "text/plain": [
       "array([90., 85., 88., 95., 92.])"
      ]
     },
     "execution_count": 9,
     "metadata": {},
     "output_type": "execute_result"
    }
   ],
   "source": [
    "apple[:,0]\n"
   ]
  },
  {
   "cell_type": "code",
   "execution_count": 10,
   "metadata": {},
   "outputs": [
    {
     "data": {
      "text/plain": [
       "array([[90. ,  1. ],\n",
       "       [85. ,  0.8],\n",
       "       [88. ,  0.9],\n",
       "       [95. ,  0.8],\n",
       "       [92. ,  0.9]])"
      ]
     },
     "execution_count": 10,
     "metadata": {},
     "output_type": "execute_result"
    }
   ],
   "source": [
    "apple"
   ]
  },
  {
   "cell_type": "code",
   "execution_count": 11,
   "metadata": {},
   "outputs": [
    {
     "data": {
      "text/plain": [
       "[<matplotlib.lines.Line2D at 0x71aa02c1d7c0>]"
      ]
     },
     "execution_count": 11,
     "metadata": {},
     "output_type": "execute_result"
    },
    {
     "data": {
      "image/png": "[encoded data removed]",
      "text/plain": [
       "<Figure size 640x480 with 1 Axes>"
      ]
     },
     "metadata": {},
     "output_type": "display_data"
    }
   ],
   "source": [
    "\n",
    "\n",
    "plt.figsize=(10,10)\n",
    "plt.plot(apple[:,0], apple[:,1], '*',label = \"apple\", color='red')\n",
    "plt.plot(orange[:,0], orange[:,1], 'o',label = \"orange\", color='orange')\n",
    "plt.plot(new[:,0], new[:,1], 'x',label = \"new\", color='green')\n"
   ]
  },
  {
   "cell_type": "code",
   "execution_count": 14,
   "metadata": {},
   "outputs": [
    {
     "name": "stdout",
     "output_type": "stream",
     "text": [
      "5.024937810560445\n",
      "0.30000000000000004\n",
      "3.026549190084311\n",
      "10.004498987955369\n",
      "7.011419257183241\n",
      "Distance from new to orange\n",
      "5.0\n",
      "0.09999999999999998\n",
      "10.004498987955369\n",
      "15.0\n",
      "7.000714249274855\n",
      "\n"
     ]
    }
   ],
   "source": [
    "def euc(x1, x2, y1, y2):\n",
    "    return np.sqrt((x1 - y1)**2 + (x2 - y2)**2)\n",
    "\n",
    "def manhatt(x1, x2, y1, y2):\n",
    "    return np.abs(x1 - y1) + np.abs(x2 - y2)\n",
    "\n",
    "for a in apple:\n",
    "    print(euc(new[0,0], new[0,1], a[0], a[1]))\n",
    "\n",
    "print(\"Distance from new to orange\")\n",
    "for o in orange:\n",
    "    print(euc(new[0,0], new[0,1], o[0], o[1]))\n",
    "print()"
   ]
  },
  {
   "cell_type": "code",
   "execution_count": null,
   "metadata": {},
   "outputs": [],
   "source": []
  }
 ],
 "metadata": {
  "language_info": {
   "name": "python"
  }
 },
 "nbformat": 4,
 "nbformat_minor": 2
}
